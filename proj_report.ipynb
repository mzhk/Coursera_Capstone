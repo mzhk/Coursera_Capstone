{
 "cells": [
  {
   "cell_type": "markdown",
   "metadata": {},
   "source": [
    "## Introduction/Business Problem\n",
    "The idea of this project is to help potential new restaurants founders help pick a location in the city. It will show the distribution and density of current locations in the city on a map. Also location data will be clustered based on types of locations, which will show the potential restaurant founder where in the city the market for certain type of restaurant is already satisfied.\n"
   ]
  },
  {
   "cell_type": "markdown",
   "metadata": {},
   "source": [
    "## Data\n",
    "Data for this project will be obtained using Foursquare API that can provide location based data about different types of venues (in this case will be interested in restaurants).\n",
    "Foursquare provides a [Places API](https://developer.foursquare.com/docs/places-api) with `venues` endpoint. We will use `venues` endpoint to retrieve list of venues from `food` category for the defined location.\n",
    "An `item` returned from the API contains (among others):\n",
    "* `name`\n",
    "* `longitude`\n",
    "* `latitude`\n",
    "* `category`\n",
    "\n",
    "which we will use in the analysis."
   ]
  },
  {
   "cell_type": "markdown",
   "metadata": {},
   "source": [
    "## Methodology\n",
    "For our case, we retrieved data about 247 venues which belonged to 55 different categories. As part of the analysis retrieved locations were displayed on a map based on their geographical location to analyse visually it's density.\n",
    "\n",
    "As next step DBSCAN clustering algorithm was applied on the data. DBSCAN is a density-based clustering algorithm which clusters together data points of similar characteristics. In our case that would be geo location and category of the place. DBSCAN has the concept of \"outliers\", which means that not all of the data has to be assigned to a cluster, also one does not need to define the number of clusters because DBSCAN algorithm define the clusters on it's own depending on the defined \"minimal number of neighbors\" and \"maximal distance\" from a neighbor.\n",
    "\n",
    "Both of this properties are exactly what we require for our case, since we want to find even small groups (clusters) of restaurants of similar type which are close together geographically also we are not interested in assigning a restaurant that is one of it's kind (outlier) in the neighborhood to any cluster.\n",
    "\n",
    "For the algorithm to work properly categories were encoded, so that similar categories have consecutive codes e.g.\n",
    "* \"Italian Restaurant\": 10, \"Pizza Place\": 11, \"Mediterranean Restaurant\": 12\n",
    "* \"Thai Restaurant\": 51, \"Indian Restaurant\": 52, \"Asian Restaurant\": 53, \"Sushi Restaurant\": 54, \"Chinese Restaurant\": 55\n",
    "\n",
    "this way they can be assigned to same clusters."
   ]
  },
  {
   "cell_type": "markdown",
   "metadata": {},
   "source": [
    "## Results\n",
    "DBSCAN was setup to find small clusters with minimum of 2 locations on a quite limited space. Hence there are many small clusters visible on the map. After picking a location we can analyse if there are groups of similar kind of locations in the neighborhood and by checking the places information that belong to a cluster one can see what type of places are more common in the area.\n",
    "\n",
    "![Cluster Example](img/cluster1.png) ![Cluster Example 2](img/cluster2.png)"
   ]
  },
  {
   "cell_type": "markdown",
   "metadata": {},
   "source": [
    "## Discussion\n",
    "Based on the results we can say there are many hotspots in the city for certain type of locations. E.g. in first from above examples seems like there is enough of italian and asian restaurants for such a small region, so most probably not a best business idea to setup yet another of that kind.\n",
    "Similarly, for the second case, looks like there is quite an overload of swiss restaurants (light green circle), but no wonder it's an old town region of the city."
   ]
  },
  {
   "cell_type": "markdown",
   "metadata": {},
   "source": [
    "## Conclusion\n",
    "Analysis done in the project might give good preliminary insight and overview of the city gastronomical scene, which might be of significant value when planning to enter this business."
   ]
  }
 ],
 "metadata": {
  "language_info": {
   "codemirror_mode": {
    "name": "ipython",
    "version": 3
   },
   "file_extension": ".py",
   "mimetype": "text/x-python",
   "name": "python",
   "nbconvert_exporter": "python",
   "pygments_lexer": "ipython3",
   "version": "3.7.7-final"
  },
  "orig_nbformat": 2,
  "kernelspec": {
   "name": "python3",
   "display_name": "Python 3"
  }
 },
 "nbformat": 4,
 "nbformat_minor": 2
}